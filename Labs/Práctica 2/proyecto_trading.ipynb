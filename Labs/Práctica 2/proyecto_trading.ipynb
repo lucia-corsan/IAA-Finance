{
 "cells": [
  {
   "cell_type": "markdown",
   "metadata": {},
   "source": [
    "# Proyecto Trading\n",
    "Lucía Cordero - 100451776 | Jorge Garcelán - 100442062"
   ]
  },
  {
   "cell_type": "markdown",
   "metadata": {},
   "source": [
    "## 1.  Aplicar un método de clustering a los componentes del Dow Jones usando algunas de las variables fundamentales (fichero fundamentals_dji.csv).\n",
    "\n",
    "En el Anexo 1 tenéis la descripción de estas variables. De esta manera dividimos el índice en grupos de empresas que son parecidas.  \n",
    "\n",
    "- Al menos usad 5 grupos. \n",
    "- Al menos usad 3 variables para hacer el clustering, esto es, elegid al menos 3 features de entre todas las que os ofrece el fichero con la info de fundamentales."
   ]
  },
  {
   "cell_type": "code",
   "execution_count": null,
   "metadata": {},
   "outputs": [],
   "source": []
  },
  {
   "cell_type": "markdown",
   "metadata": {},
   "source": [
    "## 2. Elegid de cada grupo dos acciones para aplicar la estrategia de pairs trading "
   ]
  },
  {
   "cell_type": "code",
   "execution_count": null,
   "metadata": {},
   "outputs": [],
   "source": []
  },
  {
   "cell_type": "markdown",
   "metadata": {},
   "source": [
    "## 3. Elegid un intervalo de entre 3 y 5 años de todos los disponibles para el estudio"
   ]
  },
  {
   "cell_type": "code",
   "execution_count": null,
   "metadata": {},
   "outputs": [],
   "source": []
  },
  {
   "cell_type": "markdown",
   "metadata": {},
   "source": [
    "## 4.  Comparad las PnL obtenidas por cada par, intentad explicar las diferencias en estos  resultados mirando los grupos que se han creado"
   ]
  },
  {
   "cell_type": "code",
   "execution_count": null,
   "metadata": {},
   "outputs": [],
   "source": []
  }
 ],
 "metadata": {
  "kernelspec": {
   "display_name": ".venv",
   "language": "python",
   "name": "python3"
  },
  "language_info": {
   "name": "python",
   "version": "3.9.6"
  }
 },
 "nbformat": 4,
 "nbformat_minor": 2
}
