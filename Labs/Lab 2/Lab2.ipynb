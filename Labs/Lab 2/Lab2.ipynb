{
  "cells": [
    {
      "cell_type": "markdown",
      "metadata": {
        "id": "7WotIqwJCi1K"
      },
      "source": [
        "# Lab 2 - Jorge"
      ]
    },
    {
      "cell_type": "markdown",
      "metadata": {
        "id": "jC-MqQgeCzrm"
      },
      "source": [
        "## Exploración de los datos"
      ]
    },
    {
      "cell_type": "markdown",
      "metadata": {
        "id": "-zaJbUO3FjBa"
      },
      "source": [
        "1. En el fichero datosSAN2018.zip encontrar ́as un fichero csv para cada d ́ıa con cada una\n",
        "de las negociaciones que se realizaron, con la fecha, el precio y el volumen negociado.\n",
        "Carga todos los ficheros y ju ́ntalos en un u ́nico DataFrame de pandas con el que\n",
        "trabajaremos durante toda la pr ́actica."
      ]
    },
    {
      "cell_type": "code",
      "execution_count": 2,
      "metadata": {
        "id": "qzoVdxUpDss1"
      },
      "outputs": [],
      "source": [
        "import pandas as pd\n",
        "import zipfile\n",
        "import os\n",
        "\n",
        "# Nombre del archivo ZIP\n",
        "zip_filename = \"/Users/jorgegarcelan/Desktop/UNI/5-MASTER IAA/SC3/IA FINANZAS/IAA-Finance/Labs/Lab 2/data/datosSAN2018.zip\"\n",
        "\n",
        "# Verificar si el archivo ZIP existe\n",
        "if not os.path.exists(zip_filename):\n",
        "    raise FileNotFoundError(f\"El archivo {zip_filename} no se encuentra en la ruta especificada.\")\n",
        "\n",
        "# Lista para almacenar los DataFrames\n",
        "dfs = []\n",
        "\n",
        "try:\n",
        "    # Extraer los archivos y procesarlos\n",
        "    with zipfile.ZipFile(zip_filename, 'r') as z:\n",
        "        # Obtener la lista de archivos dentro del ZIP\n",
        "        file_list = z.namelist()\n",
        "\n",
        "        # Iterar sobre cada archivo CSV dentro del ZIP\n",
        "        for file in file_list:\n",
        "            if file.endswith(\".csv\"):  # Asegurar que es un archivo CSV\n",
        "                with z.open(file) as f:\n",
        "                    df = pd.read_csv(f)  # Leer el CSV en un DataFrame\n",
        "                    dfs.append(df)\n",
        "\n",
        "    # Concatenar todos los DataFrames en uno solo\n",
        "    df_final = pd.concat(dfs, ignore_index=True)\n",
        "\n",
        "except zipfile.BadZipFile:\n",
        "    raise zipfile.BadZipFile(\"El archivo no es un ZIP válido o está corrupto.\")\n"
      ]
    },
    {
      "cell_type": "code",
      "execution_count": 3,
      "metadata": {
        "colab": {
          "base_uri": "https://localhost:8080/",
          "height": 424
        },
        "id": "iMoPHhCjFSgB",
        "outputId": "bc15d6a6-02f1-4475-e348-bf25ce1f82d6"
      },
      "outputs": [
        {
          "data": {
            "text/html": [
              "<div>\n",
              "<style scoped>\n",
              "    .dataframe tbody tr th:only-of-type {\n",
              "        vertical-align: middle;\n",
              "    }\n",
              "\n",
              "    .dataframe tbody tr th {\n",
              "        vertical-align: top;\n",
              "    }\n",
              "\n",
              "    .dataframe thead th {\n",
              "        text-align: right;\n",
              "    }\n",
              "</style>\n",
              "<table border=\"1\" class=\"dataframe\">\n",
              "  <thead>\n",
              "    <tr style=\"text-align: right;\">\n",
              "      <th></th>\n",
              "      <th>TIME</th>\n",
              "      <th>VOLUMEN</th>\n",
              "      <th>PRECIO</th>\n",
              "    </tr>\n",
              "  </thead>\n",
              "  <tbody>\n",
              "    <tr>\n",
              "      <th>0</th>\n",
              "      <td>2018-09-27 09:00:16.000</td>\n",
              "      <td>11</td>\n",
              "      <td>4.453</td>\n",
              "    </tr>\n",
              "    <tr>\n",
              "      <th>1</th>\n",
              "      <td>2018-09-27 09:00:16.000</td>\n",
              "      <td>1</td>\n",
              "      <td>4.453</td>\n",
              "    </tr>\n",
              "    <tr>\n",
              "      <th>2</th>\n",
              "      <td>2018-09-27 09:00:16.000</td>\n",
              "      <td>6</td>\n",
              "      <td>4.453</td>\n",
              "    </tr>\n",
              "    <tr>\n",
              "      <th>3</th>\n",
              "      <td>2018-09-27 09:00:16.000</td>\n",
              "      <td>10</td>\n",
              "      <td>4.453</td>\n",
              "    </tr>\n",
              "    <tr>\n",
              "      <th>4</th>\n",
              "      <td>2018-09-27 09:00:16.000</td>\n",
              "      <td>133</td>\n",
              "      <td>4.453</td>\n",
              "    </tr>\n",
              "    <tr>\n",
              "      <th>...</th>\n",
              "      <td>...</td>\n",
              "      <td>...</td>\n",
              "      <td>...</td>\n",
              "    </tr>\n",
              "    <tr>\n",
              "      <th>13279</th>\n",
              "      <td>2018-09-27 17:35:11.000</td>\n",
              "      <td>1659</td>\n",
              "      <td>4.481</td>\n",
              "    </tr>\n",
              "    <tr>\n",
              "      <th>13280</th>\n",
              "      <td>2018-09-27 17:35:11.000</td>\n",
              "      <td>76775</td>\n",
              "      <td>4.481</td>\n",
              "    </tr>\n",
              "    <tr>\n",
              "      <th>13281</th>\n",
              "      <td>2018-09-27 17:35:11.000</td>\n",
              "      <td>1722</td>\n",
              "      <td>4.481</td>\n",
              "    </tr>\n",
              "    <tr>\n",
              "      <th>13282</th>\n",
              "      <td>2018-09-27 17:35:11.000</td>\n",
              "      <td>60418</td>\n",
              "      <td>4.481</td>\n",
              "    </tr>\n",
              "    <tr>\n",
              "      <th>13283</th>\n",
              "      <td>2018-09-27 17:35:11.000</td>\n",
              "      <td>25505</td>\n",
              "      <td>4.481</td>\n",
              "    </tr>\n",
              "  </tbody>\n",
              "</table>\n",
              "<p>13284 rows × 3 columns</p>\n",
              "</div>"
            ],
            "text/plain": [
              "                          TIME  VOLUMEN  PRECIO\n",
              "0      2018-09-27 09:00:16.000       11   4.453\n",
              "1      2018-09-27 09:00:16.000        1   4.453\n",
              "2      2018-09-27 09:00:16.000        6   4.453\n",
              "3      2018-09-27 09:00:16.000       10   4.453\n",
              "4      2018-09-27 09:00:16.000      133   4.453\n",
              "...                        ...      ...     ...\n",
              "13279  2018-09-27 17:35:11.000     1659   4.481\n",
              "13280  2018-09-27 17:35:11.000    76775   4.481\n",
              "13281  2018-09-27 17:35:11.000     1722   4.481\n",
              "13282  2018-09-27 17:35:11.000    60418   4.481\n",
              "13283  2018-09-27 17:35:11.000    25505   4.481\n",
              "\n",
              "[13284 rows x 3 columns]"
            ]
          },
          "execution_count": 3,
          "metadata": {},
          "output_type": "execute_result"
        }
      ],
      "source": [
        "df"
      ]
    },
    {
      "cell_type": "markdown",
      "metadata": {
        "id": "DSf3PN4DFpFX"
      },
      "source": [
        "2. Usando los datos del apartado anterior calcula las velas (open, high, low, close, vol)\n",
        "diarias y mensuales."
      ]
    },
    {
      "cell_type": "code",
      "execution_count": null,
      "metadata": {
        "id": "Af5s7n5kFs17"
      },
      "outputs": [],
      "source": []
    },
    {
      "cell_type": "markdown",
      "metadata": {
        "id": "ZcyvAiwKFs_j"
      },
      "source": [
        "3. Haz un gráfico de velas diarias y mensuales."
      ]
    },
    {
      "cell_type": "code",
      "execution_count": null,
      "metadata": {
        "id": "YaEVuMAJFtUK"
      },
      "outputs": [],
      "source": []
    },
    {
      "cell_type": "markdown",
      "metadata": {},
      "source": [
        "4. Para un día elegido por ti, calcula el precio ponderado por volumen (VWAP) desde el\n",
        "inicio del día, en cada instante de tiempo."
      ]
    },
    {
      "cell_type": "code",
      "execution_count": null,
      "metadata": {},
      "outputs": [],
      "source": []
    },
    {
      "cell_type": "markdown",
      "metadata": {},
      "source": [
        "5. Obtén una gráfico parecido a la Figura 1: donde puedas ver las negociaciones, el VWAP\n",
        "y volumen acumulado a lo largo del día. ¿Qué conclusiones puedes extraer?"
      ]
    },
    {
      "cell_type": "code",
      "execution_count": null,
      "metadata": {},
      "outputs": [],
      "source": []
    },
    {
      "cell_type": "markdown",
      "metadata": {},
      "source": [
        "## 2. Cálculo y estimación del volumen diario"
      ]
    }
  ],
  "metadata": {
    "colab": {
      "provenance": []
    },
    "kernelspec": {
      "display_name": ".venv",
      "language": "python",
      "name": "python3"
    },
    "language_info": {
      "codemirror_mode": {
        "name": "ipython",
        "version": 3
      },
      "file_extension": ".py",
      "mimetype": "text/x-python",
      "name": "python",
      "nbconvert_exporter": "python",
      "pygments_lexer": "ipython3",
      "version": "3.9.6"
    }
  },
  "nbformat": 4,
  "nbformat_minor": 0
}
